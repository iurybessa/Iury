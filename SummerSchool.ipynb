{
  "nbformat": 4,
  "nbformat_minor": 0,
  "metadata": {
    "colab": {
      "name": "SummerSchool.ipynb",
      "provenance": [],
      "include_colab_link": true
    },
    "kernelspec": {
      "name": "python3",
      "display_name": "Python 3"
    },
    "language_info": {
      "name": "python"
    }
  },
  "cells": [
    {
      "cell_type": "markdown",
      "metadata": {
        "id": "view-in-github",
        "colab_type": "text"
      },
      "source": [
        "<a href=\"https://colab.research.google.com/github/iurybessa/Iury/blob/master/SummerSchool.ipynb\" target=\"_parent\"><img src=\"https://colab.research.google.com/assets/colab-badge.svg\" alt=\"Open In Colab\"/></a>"
      ]
    },
    {
      "cell_type": "markdown",
      "metadata": {
        "id": "N-NgfzTIfvU7"
      },
      "source": [
        "# Imports"
      ]
    },
    {
      "cell_type": "code",
      "metadata": {
        "id": "LNOYf2SnfyLT"
      },
      "source": [
        "!pip install -U -q PyDrive\n",
        "from pydrive.auth import GoogleAuth\n",
        "from pydrive.drive import GoogleDrive\n",
        "from google.colab import auth\n",
        "from oauth2client.client import GoogleCredentials\n",
        "import os\n",
        "import pandas as pd\n",
        "import matplotlib.pyplot as plt"
      ],
      "execution_count": null,
      "outputs": []
    },
    {
      "cell_type": "markdown",
      "metadata": {
        "id": "Ogw2cTIsf0_A"
      },
      "source": [
        "# Load Datasets"
      ]
    },
    {
      "cell_type": "code",
      "metadata": {
        "colab": {
          "base_uri": "https://localhost:8080/"
        },
        "id": "JAtCYj93C6l3",
        "outputId": "ef0e66b8-c0b3-4ffd-886e-1fbdbc8b4175"
      },
      "source": [
        "auth.authenticate_user()\n",
        "gauth = GoogleAuth()\n",
        "gauth.credentials = GoogleCredentials.get_application_default()\n",
        "drive = GoogleDrive(gauth)\n",
        "file_id_train1 = '1Q7OBjTcSA6YyKmDufQ-gREtEz88ac58M'\n",
        "downloaded = drive.CreateFile({'id': file_id_train1})\n",
        "downloaded.GetContentFile('train001.csv')\n",
        "print(os.listdir())\n",
        "APU001=pd.read_csv('train001.csv')"
      ],
      "execution_count": null,
      "outputs": [
        {
          "output_type": "stream",
          "name": "stdout",
          "text": [
            "['.config', 'adc.json', 'train001.csv', 'sample_data']\n"
          ]
        }
      ]
    },
    {
      "cell_type": "code",
      "metadata": {
        "colab": {
          "base_uri": "https://localhost:8080/"
        },
        "id": "WCYTptj9E2b2",
        "outputId": "015d3fea-e041-472f-b19a-8ff7157f9e25"
      },
      "source": [
        "print(APU001)"
      ],
      "execution_count": null,
      "outputs": [
        {
          "output_type": "stream",
          "name": "stdout",
          "text": [
            "                       timestamp    TP2    TP3  ...  gpsLat  gpsSpeed  mode\n",
            "0        2020-04-10 00:00:00.140  6.680  8.064  ...  41.212         0     p\n",
            "1        2020-04-10 00:00:01.130  7.264  8.064  ...  41.212         0     p\n",
            "2        2020-04-10 00:00:02.120  7.838  8.064  ...  41.212         0     p\n",
            "3        2020-04-10 00:00:03.110  8.344  8.064  ...  41.212         0     p\n",
            "4        2020-04-10 00:00:04.110  8.602  8.104  ...  41.212         0     p\n",
            "...                          ...    ...    ...  ...     ...       ...   ...\n",
            "1140146  2020-04-25 01:10:48.530 -0.014  6.488  ...   0.000         0     o\n",
            "1140147  2020-04-25 01:10:49.520 -0.014  6.488  ...   0.000         0     o\n",
            "1140148  2020-04-25 01:10:50.510 -0.014  6.488  ...   0.000         0     o\n",
            "1140149  2020-04-25 01:10:51.500 -0.014  6.488  ...   0.000         0     o\n",
            "1140150  2020-04-25 01:10:52.490 -0.016  6.486  ...   0.000         0     o\n",
            "\n",
            "[1140151 rows x 21 columns]\n"
          ]
        }
      ]
    },
    {
      "cell_type": "markdown",
      "metadata": {
        "id": "Daj3QiPmhBeD"
      },
      "source": [
        "# Plot Variable"
      ]
    },
    {
      "cell_type": "code",
      "metadata": {
        "colab": {
          "base_uri": "https://localhost:8080/",
          "height": 295
        },
        "id": "Fy9uIDmYFIH3",
        "outputId": "c64df8a3-89bf-43dd-d5aa-2097e49251a1"
      },
      "source": [
        "APU001.plot(x='timestamp', y='TP2')\n",
        "plt.xlabel(\"x axis\")\n",
        "plt.ylabel(\"y axis\")\n",
        "plt.title(\"Line Graph Example\")\n",
        "plt.legend()\n",
        "plt.show()"
      ],
      "execution_count": null,
      "outputs": [
        {
          "output_type": "display_data",
          "data": {
            "image/png": "[encoded data removed]",
            "text/plain": [
              "<Figure size 432x288 with 1 Axes>"
            ]
          },
          "metadata": {
            "needs_background": "light"
          }
        }
      ]
    }
  ]
}